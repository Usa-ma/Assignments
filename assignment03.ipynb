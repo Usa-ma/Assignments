{
 "cells": [
  {
   "cell_type": "code",
   "execution_count": 1,
   "metadata": {},
   "outputs": [
    {
     "name": "stdout",
     "output_type": "stream",
     "text": [
      "enter first value2\n",
      "enter second value6\n",
      "enter operator**\n",
      "64 answer\n"
     ]
    }
   ],
   "source": [
    "  #ASSIGNMENT: 3\n",
    "                                           #DATED: 22.NOV.2019\n",
    "                                                #ANSWER: 1\n",
    "\n",
    "\n",
    "val1 = int(input(\"enter first value\"))\n",
    "val2 = int(input(\"enter second value\"))\n",
    "operator = input(\"enter operator\")\n",
    "\n",
    "if operator == \"+\":\n",
    "    val = val1 + val2\n",
    "    print(val,\"answer\")\n",
    "elif operator == \"-\":\n",
    "    val = val1 - val2\n",
    "    print(val,\"answer\")\n",
    "elif operator == \"*\":\n",
    "    val = val1 * val2\n",
    "    print(val,\"answer\")\n",
    "elif operator == \"//\":\n",
    "    val = val1 // val2\n",
    "    print(val,\"answer\")\n",
    "elif operator == \"**\":\n",
    "    val = val1 ** val2\n",
    "    print(val,\"answer\")\n",
    "else:\n",
    "    print(\"enter correct operator\")"
   ]
  },
  {
   "cell_type": "code",
   "execution_count": 2,
   "metadata": {},
   "outputs": [
    {
     "name": "stdout",
     "output_type": "stream",
     "text": [
      "Ali No, there is not a numeric value\n",
      "Umer No, there is not a numeric value\n",
      "Nouroz No, there is not a numeric value\n",
      "Umar No, there is not a numeric value\n",
      "Umair No, there is not a numeric value\n",
      "True No, there is not a numeric value\n",
      "False No, there is not a numeric value\n",
      "17 Yes it is a numeric value\n",
      "1 Yes it is a numeric value\n",
      "1994 Yes it is a numeric value\n"
     ]
    }
   ],
   "source": [
    "  #ANSWER: 2\n",
    "    \n",
    "\n",
    "data = [\"Ali\", \"Umer\", \"Nouroz\", \"Umar\", \"Umair\", True, False, 17, 1, 1994]\n",
    "\n",
    "for new_data in data:\n",
    "    if type(new_data) == int:\n",
    "        print(new_data, \"Yes it is a numeric value\")\n",
    "    else:\n",
    "        print(new_data, \"No, there is not a numeric value\")"
   ]
  },
  {
   "cell_type": "code",
   "execution_count": 3,
   "metadata": {},
   "outputs": [
    {
     "name": "stdout",
     "output_type": "stream",
     "text": [
      "{0: 10, 1: 20}\n",
      "{0: 10, 1: 20, 2: 30}\n"
     ]
    }
   ],
   "source": [
    "                                                #ANSWER: 3\n",
    "    \n",
    "    \n",
    "d = {0:10, 1:20}\n",
    "print(d)\n",
    "d.update({2:30})\n",
    "print(d)"
   ]
  },
  {
   "cell_type": "code",
   "execution_count": 4,
   "metadata": {},
   "outputs": [
    {
     "name": "stdout",
     "output_type": "stream",
     "text": [
      "Sum of elements in given list is : 21\n"
     ]
    }
   ],
   "source": [
    "                                                #ANSWER: 4\n",
    "    \n",
    "\n",
    "lst = [1, 2, 3, 4, 5, 6]\n",
    "print(\"Sum of elements in given list is :\", sum(lst))"
   ]
  },
  {
   "cell_type": "code",
   "execution_count": 5,
   "metadata": {},
   "outputs": [
    {
     "name": "stdout",
     "output_type": "stream",
     "text": [
      "10\n",
      "20\n",
      "100\n"
     ]
    }
   ],
   "source": [
    "                                                #ANSWER: 5\n",
    "    \n",
    "    \n",
    "my_list = [10, 20, 10, 30, 100, 200, 300, 100, 20, 25]\n",
    "my_list.sort()\n",
    "for i in range (len (my_list) -1):\n",
    "     if my_list[i] == my_list[i+1]:\n",
    "        print (my_list[i])"
   ]
  },
  {
   "cell_type": "code",
   "execution_count": 6,
   "metadata": {},
   "outputs": [
    {
     "name": "stdout",
     "output_type": "stream",
     "text": [
      "enter key name check if exist or notnum1\n",
      "given key exist\n"
     ]
    }
   ],
   "source": [
    "                                                #ANSWER: 6\n",
    "    \n",
    "    \n",
    "dic = {\"num1\" : 12, \"num2\" : 15, \"string\" : \"name\"}\n",
    "check_key = input(\"enter key name check if exist or not\")\n",
    "flag = False\n",
    "for i in dic.keys():\n",
    "    if i == check_key:\n",
    "        flag= True\n",
    "        break\n",
    "        \n",
    "if flag:\n",
    "    print(\"given key exist\")\n",
    "else:\n",
    "    print(\"given key does not exist\")"
   ]
  },
  {
   "cell_type": "code",
   "execution_count": null,
   "metadata": {},
   "outputs": [],
   "source": []
  }
 ],
 "metadata": {
  "kernelspec": {
   "display_name": "Python 3",
   "language": "python",
   "name": "python3"
  },
  "language_info": {
   "codemirror_mode": {
    "name": "ipython",
    "version": 3
   },
   "file_extension": ".py",
   "mimetype": "text/x-python",
   "name": "python",
   "nbconvert_exporter": "python",
   "pygments_lexer": "ipython3",
   "version": "3.7.4"
  }
 },
 "nbformat": 4,
 "nbformat_minor": 2
}
