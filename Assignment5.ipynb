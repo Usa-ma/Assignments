{
 "cells": [
  {
   "cell_type": "code",
   "execution_count": 1,
   "metadata": {},
   "outputs": [
    {
     "name": "stdout",
     "output_type": "stream",
     "text": [
      "Welcome to Check Factorail Number\n",
      "-----------------------------------------\n",
      "Enter number for generate factorail 6\n",
      "The factorial of 6 is 720\n"
     ]
    }
   ],
   "source": [
    "                                        #ASSIGNMENT: 05\n",
    "print(\"Welcome to Check Factorail Number\\n-----------------------------------------\")\n",
    "number = int(input(\"Enter number for generate factorail \"))\n",
    "def get_fac(number):\n",
    "    factorial = 1\n",
    "    if number < 0:\n",
    "        print(\"Sorry, factorial does not exist for negative numbers \")\n",
    "    elif number == 0:\n",
    "        print(\"The Factorail number 0 is 1\")\n",
    "    else:\n",
    "        for num in range(1,number+1):\n",
    "            factorial = factorial*num\n",
    "    print(\"The factorial of\",number,\"is\",factorial)\n",
    "            \n",
    "get_fac(number)"
   ]
  },
  {
   "cell_type": "code",
   "execution_count": 3,
   "metadata": {},
   "outputs": [
    {
     "name": "stdout",
     "output_type": "stream",
     "text": [
      "Count Char Values of Uper and Lower Case\n",
      "\n",
      "-----------------------------------------\n",
      "\n",
      "Enter any word with uper and lower case Usama Noor\n",
      "\n",
      "The Total Lenght of Input is 10\n",
      "-----------------------------------------\n",
      "\n",
      "Upper Case Alphabet 2 Lower Case Alphabet 7\n"
     ]
    }
   ],
   "source": [
    "print(\"Count Char Values of Uper and Lower Case\\n\\n-----------------------------------------\\n\")\n",
    "str_value = input(\"Enter any word with uper and lower case \")\n",
    "def count_lower_uper(str_value):\n",
    "            total_lenght = len(str_value)\n",
    "            print(\"\\nThe Total Lenght of Input is {}\".format(total_lenght)+\"\\n-----------------------------------------\\n\")\n",
    "            upper =0\n",
    "            lower = 0\n",
    "            for value in str_value:\n",
    "                if value.isupper():\n",
    "                    upper +=1\n",
    "                if value.islower():\n",
    "                    lower +=1\n",
    "            print(\"Upper Case Alphabet {} Lower Case Alphabet {}\".format(str(upper),str(lower)))\n",
    "\n",
    "#Function Invoke here! --------------------------------------\n",
    "count_lower_uper(str_value)"
   ]
  },
  {
   "cell_type": "code",
   "execution_count": 4,
   "metadata": {},
   "outputs": [
    {
     "name": "stdout",
     "output_type": "stream",
     "text": [
      "How many number you want to add in list eg: 1,2,3 3\n",
      "Please enter number 9\n",
      "Please enter number 9\n",
      "Please enter number 4\n",
      "This is existing list [9, 9, 4]\n",
      "even number is4\n"
     ]
    }
   ],
   "source": [
    "listas = []\n",
    "number = int(input(\"How many number you want to add in list eg: 1,2,3 \")) \n",
    "\n",
    "for i in range(0, number): \n",
    "    ele = int(input(\"Please enter number \")) \n",
    "    listas.append(ele) # adding the element \n",
    " \n",
    "    \n",
    "def even(lista):\n",
    "    \n",
    "    for inp in lista:\n",
    "        check = inp %2\n",
    "        if check == 0:\n",
    "            \n",
    "            print(\"even number is\" + str(inp))\n",
    "        \n",
    "print(\"This is existing list \"+str(listas))\n",
    "even(listas)"
   ]
  },
  {
   "cell_type": "code",
   "execution_count": 5,
   "metadata": {},
   "outputs": [
    {
     "name": "stdout",
     "output_type": "stream",
     "text": [
      "Enter any plindrome word to check radar\n",
      "It is a palindrome\n"
     ]
    }
   ],
   "source": [
    "word = input(\"Enter any plindrome word to check \").lower()\n",
    "word_rev = reversed(word)\n",
    "def is_palindrome(word):\n",
    "    if list(word) == list(word_rev):\n",
    "        print('It is a palindrome')\n",
    "    else:\n",
    "        print('this is not a plindrome')\n",
    "\n",
    "is_palindrome(word)"
   ]
  },
  {
   "cell_type": "code",
   "execution_count": 6,
   "metadata": {},
   "outputs": [
    {
     "name": "stdout",
     "output_type": "stream",
     "text": [
      "Enter Number to check prime number 7\n",
      "7 is a prime\n"
     ]
    }
   ],
   "source": [
    "number = int(input(\"Enter Number to check prime number \"))\n",
    "\n",
    "def prime(number):\n",
    "    if number > 1:\n",
    "        for i in range(2,number):\n",
    "            if(number % i) == 0:\n",
    "                print(str(number) + \" is not a prime\")\n",
    "                break\n",
    "        else:\n",
    "            print(str(number)+\" is a prime\")\n",
    "    else:\n",
    "        print(str(number) + \" is not a prime\")\n",
    "            \n",
    "        \n",
    "\n",
    "    \n",
    "    \n",
    "    \n",
    "    \n",
    "    \n",
    "prime(number)"
   ]
  },
  {
   "cell_type": "code",
   "execution_count": 7,
   "metadata": {},
   "outputs": [
    {
     "name": "stdout",
     "output_type": "stream",
     "text": [
      "This function is showing bought details\n",
      "I have bought Denim jeans with Calvin Klein T-shirt\n",
      "\n",
      "------------------------------\n",
      "This items is remaning for purchase\n",
      "Leather Belt\n",
      "LV Cap\n"
     ]
    }
   ],
   "source": [
    "def shop(*otherproducts,jeans,tshirt):\n",
    "    print(\"This function is showing bought details\")\n",
    "    print(\"I have bought {} jeans with {} T-shirt\".format(jeans,tshirt))\n",
    "    print(\"\\n------------------------------\\nThis items is remaning for purchase\")\n",
    "    for other in otherproducts:\n",
    "        print(other)\n",
    "    \n",
    "\n",
    "shop('Leather Belt','LV Cap',jeans='Denim',tshirt='Calvin Klein')"
   ]
  },
  {
   "cell_type": "code",
   "execution_count": null,
   "metadata": {},
   "outputs": [],
   "source": []
  }
 ],
 "metadata": {
  "kernelspec": {
   "display_name": "Python 3",
   "language": "python",
   "name": "python3"
  },
  "language_info": {
   "codemirror_mode": {
    "name": "ipython",
    "version": 3
   },
   "file_extension": ".py",
   "mimetype": "text/x-python",
   "name": "python",
   "nbconvert_exporter": "python",
   "pygments_lexer": "ipython3",
   "version": "3.7.4"
  }
 },
 "nbformat": 4,
 "nbformat_minor": 2
}
