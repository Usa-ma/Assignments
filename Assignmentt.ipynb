{
 "cells": [
  {
   "cell_type": "code",
   "execution_count": 1,
   "metadata": {},
   "outputs": [
    {
     "name": "stdout",
     "output_type": "stream",
     "text": [
      "Hello World\n"
     ]
    }
   ],
   "source": [
    "print('Hello World')"
   ]
  },
  {
   "cell_type": "code",
   "execution_count": 2,
   "metadata": {},
   "outputs": [
    {
     "name": "stdout",
     "output_type": "stream",
     "text": [
      "Twinkle, twinkle, Little star,\n",
      "      How I wonder what you are!\n",
      "            Up above the world so high\n",
      "            Like a diamond in the sky.\n",
      "Twinkle, twinkle, Little star,\n",
      "      How I wonder what you are!\n"
     ]
    }
   ],
   "source": [
    "print(\"Twinkle, twinkle, Little star,\")\n",
    "print(\"      \" + \"How I wonder what you are!\")\n",
    "print(\"            \" + \"Up above the world so high\")\n",
    "print(\"            \" + \"Like a diamond in the sky.\")\n",
    "print(\"Twinkle, twinkle, Little star,\")\n",
    "print(\"      \" + \"How I wonder what you are!\")"
   ]
  },
  {
   "cell_type": "code",
   "execution_count": 3,
   "metadata": {},
   "outputs": [
    {
     "name": "stdout",
     "output_type": "stream",
     "text": [
      "Python 3.7\n"
     ]
    }
   ],
   "source": [
    "name = \"Python\"\n",
    "version = name + \" \" + \"3.7\"\n",
    "print(version)"
   ]
  },
  {
   "cell_type": "code",
   "execution_count": 4,
   "metadata": {},
   "outputs": [
    {
     "name": "stdout",
     "output_type": "stream",
     "text": [
      "1st Nov 2019 4:56 am\n"
     ]
    }
   ],
   "source": [
    "Date = \"1st Nov 2019\"\n",
    "Time = \"4:56 am\" \n",
    "print(Date + \" \" + Time)"
   ]
  },
  {
   "cell_type": "code",
   "execution_count": 8,
   "metadata": {},
   "outputs": [
    {
     "name": "stdout",
     "output_type": "stream",
     "text": [
      "2.0096000000000003\n"
     ]
    }
   ],
   "source": [
    "pi = 3.14\n",
    "r = 0.8\n",
    "area = pi * r**2\n",
    "print(area)"
   ]
  },
  {
   "cell_type": "code",
   "execution_count": 6,
   "metadata": {},
   "outputs": [
    {
     "name": "stdout",
     "output_type": "stream",
     "text": [
      "Noor Muhammad Usama\n"
     ]
    }
   ],
   "source": [
    "first_name = \"Usama\"\n",
    "Last_name = \"Noor Muhammad\"\n",
    "print(Last_name + \" \" + first_name)"
   ]
  },
  {
   "cell_type": "code",
   "execution_count": 7,
   "metadata": {},
   "outputs": [
    {
     "name": "stdout",
     "output_type": "stream",
     "text": [
      "150\n"
     ]
    }
   ],
   "source": [
    "A = 50\n",
    "B = 100\n",
    "print(A+B)"
   ]
  },
  {
   "cell_type": "code",
   "execution_count": null,
   "metadata": {},
   "outputs": [],
   "source": []
  }
 ],
 "metadata": {
  "kernelspec": {
   "display_name": "Python 3",
   "language": "python",
   "name": "python3"
  },
  "language_info": {
   "codemirror_mode": {
    "name": "ipython",
    "version": 3
   },
   "file_extension": ".py",
   "mimetype": "text/x-python",
   "name": "python",
   "nbconvert_exporter": "python",
   "pygments_lexer": "ipython3",
   "version": "3.7.4"
  }
 },
 "nbformat": 4,
 "nbformat_minor": 2
}
